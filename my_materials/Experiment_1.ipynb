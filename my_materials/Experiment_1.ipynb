{
 "cells": [
  {
   "cell_type": "code",
   "execution_count": null,
   "id": "079b9567",
   "metadata": {},
   "outputs": [],
   "source": [
    "import numpy as np\n",
    "import pandas as pd\n",
    "import matplotlib.pyplot as plt\n",
    "import seaborn as sns\n",
    "from sklearn.model_selection import train_test_split\n",
    "from sklearn.ensemble import RandomForestClassifier\n",
    "from sklearn.preprocessing import StandardScaler\n",
    "from sklearn.utils import shuffle\n",
    "from catboost import CatBoostClassifier\n",
    "import xgboost\n",
    "import joblib\n",
    "from joblib import dump, load\n",
    "import gc\n",
    "from sklearn.preprocessing import OneHotEncoder\n",
    "import sklearn.metrics\n",
    "from sklearn.metrics import accuracy_score"
   ]
  },
  {
   "cell_type": "code",
   "execution_count": null,
   "id": "c7557e68",
   "metadata": {},
   "outputs": [],
   "source": [
    "train_flag = True #Если нужно тренировать модели, то флаг на 'True', если загрузить тренированные, то 'False'"
   ]
  },
  {
   "cell_type": "markdown",
   "id": "d3242a09",
   "metadata": {},
   "source": [
    "# 1. Смотрим на данные"
   ]
  },
  {
   "cell_type": "code",
   "execution_count": null,
   "id": "51547ab6",
   "metadata": {},
   "outputs": [],
   "source": [
    "data = pd.read_csv(r\"D:\\for ML\\HW-hack\\train_hw.csv\", sep=';')"
   ]
  },
  {
   "cell_type": "code",
   "execution_count": null,
   "id": "936a0e4c",
   "metadata": {
    "scrolled": true
   },
   "outputs": [],
   "source": [
    "data.info()"
   ]
  },
  {
   "cell_type": "markdown",
   "id": "bc4ccfdb",
   "metadata": {},
   "source": [
    "Есть численные и категориальные признаки"
   ]
  },
  {
   "cell_type": "code",
   "execution_count": null,
   "id": "d6bc8e6f",
   "metadata": {
    "scrolled": true
   },
   "outputs": [],
   "source": [
    "data.isna().sum()"
   ]
  },
  {
   "cell_type": "markdown",
   "id": "fe9f5bb2",
   "metadata": {},
   "source": [
    "Много пропущенных значений для некоторых признаков"
   ]
  },
  {
   "cell_type": "code",
   "execution_count": null,
   "id": "66d1b76c",
   "metadata": {},
   "outputs": [],
   "source": [
    "for i, w in enumerate(data['WELL'].unique()):\n",
    "    if i > 5:\n",
    "        break\n",
    "    well_data = data[data['WELL'] == w]\n",
    "    fig, axs = plt.subplots(1, 5, figsize=(8, 10), sharey=True)\n",
    "    for ic, col in enumerate(set(['CALI', 'RDEP', 'GR', 'PEF', 'SP'])): # enumerate() добавляет счётчик, превращая объект в кортеж.\n",
    "                                                                                  # Например, for e in enumerate(elements). Здесь вместо elements будет кортеж (counter, element)\n",
    "                                                                                  # По умолчанию отсчёт начинается с 0, но можно передать вторым параметром число, с которого будет начинаться отсчёт\n",
    "                                                                                  # Метод \".set()\" преобразует объект в множество {} (запись аналогична словарю). Множество похоже на список, только упорядочено и не содержит дубликатов\n",
    "        axs[ic].plot(well_data[col], well_data['DEPTH_MD'], color=\"#000000\")\n",
    "        axs[ic].set_xlabel(col)\n",
    "    axs[0].set_ylim(well_data['DEPTH_MD'].values[-1], well_data['DEPTH_MD'].values[0]) # обрезаем ось Y для первого холста. Т.к. оси для всех холстов связаны, то изменяются они изменяются сразу для всех холстов"
   ]
  },
  {
   "cell_type": "markdown",
   "id": "79f19f5f",
   "metadata": {},
   "source": [
    "Вид каротажных кривых для нескольких скважин:\n",
    "1. Могут быть пропущены значения как части кривой, так и её целиком\n",
    "2. Имеются сильные выбросы (это необязательно вредные аномалии)"
   ]
  },
  {
   "cell_type": "code",
   "execution_count": null,
   "id": "366c9c29",
   "metadata": {},
   "outputs": [],
   "source": [
    "len(data['WELL'].unique())"
   ]
  },
  {
   "cell_type": "code",
   "execution_count": null,
   "id": "dee203a1",
   "metadata": {
    "scrolled": true
   },
   "outputs": [],
   "source": [
    "data.groupby('WELL').mean().isna().sum()"
   ]
  },
  {
   "cell_type": "markdown",
   "id": "0b788c11",
   "metadata": {},
   "source": [
    "Для многих скважин полностью отсутствуют некоторые признаки"
   ]
  },
  {
   "cell_type": "code",
   "execution_count": null,
   "id": "8d6d8155",
   "metadata": {},
   "outputs": [],
   "source": [
    "lithology_percent = np.zeros(len(data['FORCE_2020_LITHOFACIES_LITHOLOGY'].unique()))\n",
    "for c, l in enumerate(data['FORCE_2020_LITHOFACIES_LITHOLOGY'].unique()):\n",
    "    for i in data['FORCE_2020_LITHOFACIES_LITHOLOGY']:\n",
    "        if l == i:\n",
    "            lithology_percent[c] += 1\n",
    "lithology_percent = np.round(((lithology_percent/len(data))*100), 2)\n",
    "lithology_percent = dict(zip(data['FORCE_2020_LITHOFACIES_LITHOLOGY'].unique(), lithology_percent))\n",
    "lithology = dict(zip([30000, 65030, 65000, 80000, 74000, 70000, 70032, 88000, 86000, 99000, 90000, 93000], \n",
    "           ['Sandstone', 'Sandstone/Shale', 'Shale', 'Marl','Dolomite', 'Limestone', 'Chalk', 'Halite', 'Anhydrite',\n",
    "            'Tuff', 'Coal', 'Basement']))\n",
    "lithology_name_percent = {}\n",
    "for i in data['FORCE_2020_LITHOFACIES_LITHOLOGY'].unique():\n",
    "    lithology_name_percent[lithology[i]] = lithology_percent[i]"
   ]
  },
  {
   "cell_type": "code",
   "execution_count": null,
   "id": "ccd39692",
   "metadata": {},
   "outputs": [],
   "source": [
    "ax = plt.subplots(figsize=(20,10))\n",
    "sns.barplot(list(lithology_name_percent.keys()), list(lithology_name_percent.values()), color='blue')\n",
    "plt.ylabel(\"Процент литологического класса, %\")"
   ]
  },
  {
   "cell_type": "code",
   "execution_count": null,
   "id": "a8885e3d",
   "metadata": {},
   "outputs": [],
   "source": [
    "data_f_l = data['FORCE_2020_LITHOFACIES_LITHOLOGY'].map(lithology)\n",
    "data_copy = pd.merge(data['FORCE_2020_LITHOFACIES_LITHOLOGY'].map(lithology), data['FORCE_2020_LITHOFACIES_CONFIDENCE'], left_index=True, right_index=True)\n",
    "sns.displot(data_copy, x='FORCE_2020_LITHOFACIES_LITHOLOGY', hue='FORCE_2020_LITHOFACIES_CONFIDENCE', height=9, aspect=2)"
   ]
  },
  {
   "cell_type": "markdown",
   "id": "d41c87cb",
   "metadata": {},
   "source": [
    "Присутствует сильный дисбаланс классов"
   ]
  },
  {
   "cell_type": "code",
   "execution_count": null,
   "id": "26997f3f",
   "metadata": {
    "scrolled": true
   },
   "outputs": [],
   "source": [
    "ax = plt.subplots(figsize=(20,15))\n",
    "sns.heatmap(data.drop(['WELL', 'GROUP', 'FORMATION'], axis=1).corr(), annot = True, vmin=-1, vmax=1, center= 0, cmap= 'coolwarm', fmt='.1g')"
   ]
  },
  {
   "cell_type": "markdown",
   "id": "e4aa3740",
   "metadata": {},
   "source": [
    "1. Нет сильной корреляции признаков с таргетом (нет обязательных к присутствию признаков)\n",
    "2. Многие признаки коррелируются между собой"
   ]
  },
  {
   "cell_type": "markdown",
   "id": "715efc80",
   "metadata": {},
   "source": [
    " "
   ]
  },
  {
   "cell_type": "markdown",
   "id": "196ce330",
   "metadata": {},
   "source": [
    " "
   ]
  },
  {
   "cell_type": "markdown",
   "id": "a9c0f1fd",
   "metadata": {},
   "source": [
    "# 2. Обработка данных"
   ]
  },
  {
   "cell_type": "markdown",
   "id": "e4c245d0",
   "metadata": {},
   "source": [
    "### 2.1 Выбор признаков"
   ]
  },
  {
   "cell_type": "code",
   "execution_count": null,
   "id": "fd8b9857",
   "metadata": {},
   "outputs": [],
   "source": [
    "data_org = data[['WELL', 'DEPTH_MD', 'CALI', 'RSHA', 'RMED', 'RDEP', 'RHOB', 'GR', 'NPHI', 'PEF', 'DTC', 'SP', 'BS', 'FORCE_2020_LITHOFACIES_LITHOLOGY','FORCE_2020_LITHOFACIES_CONFIDENCE']]\n",
    "data_all = data\n",
    "data_log = data.drop(['DEPTH_MD','X_LOC','Y_LOC','Z_LOC','GROUP','FORMATION','MUDWEIGHT'], axis=1)\n",
    "data_slf = data[['WELL', 'FORMATION', 'DEPTH_MD', 'DRHO','DTC', 'SP', 'GR', 'RDEP', 'FORCE_2020_LITHOFACIES_LITHOLOGY','FORCE_2020_LITHOFACIES_CONFIDENCE']]"
   ]
  },
  {
   "cell_type": "markdown",
   "id": "54f05542",
   "metadata": {},
   "source": [
    "### 2.2 Восстановление (импутация) значений"
   ]
  },
  {
   "cell_type": "code",
   "execution_count": null,
   "id": "0286a662",
   "metadata": {},
   "outputs": [],
   "source": [
    "data_org_fill_zr = data_org.fillna(0, inplace=False)\n",
    "values = {'GROUP': data['GROUP'].mode().iloc[0], 'FORMATION': data['FORMATION'].mode().iloc[0]}\n",
    "data_all_fill_zr = data_all.fillna(value=values)\n",
    "data_all_fill_zr = data_all_fill_zr.fillna(0, inplace=False)\n",
    "data_log_fill_zr = data_log.fillna(0, inplace=False)\n",
    "data_slf_fill_zr = data_slf.fillna(value=values)\n",
    "data_slf_fill_zr = data_slf_fill_zr.fillna(0, inplace=False)"
   ]
  },
  {
   "cell_type": "markdown",
   "id": "27a8c941",
   "metadata": {},
   "source": [
    "### 2.3 Подготовка данных к обучению"
   ]
  },
  {
   "cell_type": "code",
   "execution_count": null,
   "id": "788a8158",
   "metadata": {},
   "outputs": [],
   "source": [
    "scaler = StandardScaler()\n",
    "data_org_fill_zr[['CALI', 'RSHA', 'RMED', 'RDEP', 'RHOB', 'GR','NPHI', 'PEF', 'DTC', 'SP', 'BS']] = scaler.fit_transform(data_org_fill_zr[['CALI', 'RSHA', 'RMED', 'RDEP', 'RHOB', 'GR','NPHI', 'PEF', 'DTC', 'SP', 'BS']])\n",
    "data_all_fill_zr[['X_LOC', 'Y_LOC', 'Z_LOC','CALI', 'RSHA', 'RMED', 'RDEP', 'RHOB', 'GR', 'SGR', 'NPHI', 'PEF',\n",
    "       'DTC', 'SP', 'BS', 'ROP', 'DTS', 'DCAL', 'DRHO', 'MUDWEIGHT', 'RMIC',\n",
    "       'ROPA', 'RXO']] = scaler.fit_transform(data_all_fill_zr[['X_LOC', 'Y_LOC', 'Z_LOC','CALI', 'RSHA', 'RMED', 'RDEP', 'RHOB', 'GR', 'SGR', 'NPHI', 'PEF',\n",
    "       'DTC', 'SP', 'BS', 'ROP', 'DTS', 'DCAL', 'DRHO', 'MUDWEIGHT', 'RMIC',\n",
    "       'ROPA', 'RXO']])\n",
    "data_log_fill_zr[['CALI', 'RSHA', 'RMED', 'RDEP', 'RHOB', 'GR', 'SGR', 'NPHI',\n",
    "       'PEF', 'DTC', 'SP', 'BS', 'ROP', 'DTS', 'DCAL', 'DRHO', 'RMIC', 'ROPA',\n",
    "       'RXO']] = scaler.fit_transform(data_log_fill_zr[['CALI', 'RSHA', 'RMED', 'RDEP', 'RHOB', 'GR', 'SGR', 'NPHI',\n",
    "       'PEF', 'DTC', 'SP', 'BS', 'ROP', 'DTS', 'DCAL', 'DRHO', 'RMIC', 'ROPA',\n",
    "       'RXO']])\n",
    "data_slf_fill_zr[['DRHO', 'DTC', 'SP', 'GR', 'RDEP']] = scaler.fit_transform(data_slf_fill_zr[['DRHO', 'DTC', 'SP', 'GR', 'RDEP']])"
   ]
  },
  {
   "cell_type": "markdown",
   "id": "8282f515",
   "metadata": {},
   "source": [
    "#### 2.3.3 Разбиение  на фичи и таргет + работа с таргетом"
   ]
  },
  {
   "cell_type": "code",
   "execution_count": null,
   "id": "ce2c5b91",
   "metadata": {},
   "outputs": [],
   "source": [
    "X_org_zr = data_org_fill_zr.drop(['WELL', 'FORCE_2020_LITHOFACIES_LITHOLOGY','FORCE_2020_LITHOFACIES_CONFIDENCE'], axis=1)\n",
    "X_all_zr = data_all_fill_zr.drop(['FORCE_2020_LITHOFACIES_LITHOLOGY','FORCE_2020_LITHOFACIES_CONFIDENCE'], axis=1)\n",
    "X_log_zr = data_log_fill_zr.drop(['WELL', 'FORCE_2020_LITHOFACIES_LITHOLOGY','FORCE_2020_LITHOFACIES_CONFIDENCE'], axis=1)\n",
    "X_slf_zr = data_slf_fill_zr.drop(['FORCE_2020_LITHOFACIES_LITHOLOGY','FORCE_2020_LITHOFACIES_CONFIDENCE'], axis=1)\n",
    "\n",
    "y_org_zr = data_org_fill_zr['FORCE_2020_LITHOFACIES_LITHOLOGY']\n",
    "y_all_zr = data_all_fill_zr['FORCE_2020_LITHOFACIES_LITHOLOGY']\n",
    "y_log_zr = data_log_fill_zr['FORCE_2020_LITHOFACIES_LITHOLOGY']\n",
    "y_slf_zr = data_slf_fill_zr['FORCE_2020_LITHOFACIES_LITHOLOGY']"
   ]
  },
  {
   "cell_type": "code",
   "execution_count": null,
   "id": "ac7157fa",
   "metadata": {},
   "outputs": [],
   "source": [
    "lithology_numbers = {30000: 0,\n",
    "                 65030: 1,\n",
    "                 65000: 2,\n",
    "                 80000: 3,\n",
    "                 74000: 4,\n",
    "                 70000: 5,\n",
    "                 70032: 6,\n",
    "                 88000: 7,\n",
    "                 86000: 8,\n",
    "                 99000: 9,\n",
    "                 90000: 10,\n",
    "                 93000: 11}"
   ]
  },
  {
   "cell_type": "code",
   "execution_count": null,
   "id": "723d7fc1",
   "metadata": {},
   "outputs": [],
   "source": [
    "y_org_zr = y_org_zr.map(lithology_numbers)\n",
    "y_all_zr = y_all_zr.map(lithology_numbers)\n",
    "y_log_zr = y_log_zr.map(lithology_numbers)\n",
    "y_slf_zr = y_slf_zr.map(lithology_numbers)"
   ]
  },
  {
   "cell_type": "markdown",
   "id": "1b0b53a6",
   "metadata": {},
   "source": [
    "#### 2.3.4 Разбиение на тренировочный и тестовый сеты"
   ]
  },
  {
   "cell_type": "code",
   "execution_count": null,
   "id": "fcb2da18",
   "metadata": {},
   "outputs": [],
   "source": [
    "X_train_org_zr, X_test_org_zr, y_train_org_zr, y_test_org_zr = train_test_split(X_org_zr, y_org_zr, train_size=0.70, random_state=42, stratify=y_org_zr)\n",
    "X_train_all_zr, X_test_all_zr, y_train_all_zr, y_test_all_zr = train_test_split(X_all_zr, y_all_zr, train_size=0.70, random_state=42, stratify=y_all_zr)\n",
    "X_train_log_zr, X_test_log_zr, y_train_log_zr, y_test_log_zr = train_test_split(X_log_zr, y_log_zr, train_size=0.70, random_state=42, stratify=y_log_zr)\n",
    "X_train_slf_zr, X_test_slf_zr, y_train_slf_zr, y_test_slf_zr = train_test_split(X_slf_zr, y_slf_zr, train_size=0.70, random_state=42, stratify=y_slf_zr)"
   ]
  },
  {
   "cell_type": "markdown",
   "id": "959a4e39",
   "metadata": {},
   "source": [
    " "
   ]
  },
  {
   "cell_type": "markdown",
   "id": "7cae8c5e",
   "metadata": {},
   "source": [
    " "
   ]
  },
  {
   "cell_type": "markdown",
   "id": "e55cc2a1",
   "metadata": {},
   "source": [
    "# 3. Обучение"
   ]
  },
  {
   "cell_type": "markdown",
   "id": "382cd6a2",
   "metadata": {},
   "source": [
    "### 3.1 Настройка моделей"
   ]
  },
  {
   "cell_type": "code",
   "execution_count": null,
   "id": "c211ba53",
   "metadata": {},
   "outputs": [],
   "source": [
    "if train_flag == True:\n",
    "    model_rf = RandomForestClassifier(n_estimators=50, random_state=42, class_weight='balanced', n_jobs=8)"
   ]
  },
  {
   "cell_type": "code",
   "execution_count": null,
   "id": "ee6ef970",
   "metadata": {},
   "outputs": [],
   "source": [
    "if train_flag == True:\n",
    "    model_cb = CatBoostClassifier(loss_function='MultiClass', task_type='GPU', random_seed=42)"
   ]
  },
  {
   "cell_type": "markdown",
   "id": "ac18a6c8",
   "metadata": {},
   "source": [
    "### 3.2 Обучение моделей"
   ]
  },
  {
   "cell_type": "markdown",
   "id": "843573ca",
   "metadata": {},
   "source": [
    "#### 3.2.1 CatBoost"
   ]
  },
  {
   "cell_type": "code",
   "execution_count": null,
   "id": "93c03936",
   "metadata": {
    "scrolled": true
   },
   "outputs": [],
   "source": [
    "if train_flag == True:\n",
    "    cst = model_cb.fit(X_train_org_zr, y_train_org_zr, verbose=False, plot=True)\n",
    "    cst.save_model('cst_model_org_zr.dat')\n",
    "    y_pred_model_cb_org_zr = cst.predict(X_test_org_zr)\n",
    "\n",
    "    cat_features = ['WELL', 'GROUP', 'FORMATION']\n",
    "    cst = model_cb.fit(X_train_all_zr, y_train_all_zr, verbose=False, plot=True, cat_features=cat_features)\n",
    "    cst.save_model('cst_model_all_zr.dat')\n",
    "    y_pred_model_cb_all_zr = cst.predict(X_test_all_zr)\n",
    "    cst.get_feature_importance()\n",
    "\n",
    "    cst = model_cb.fit(X_train_log_zr, y_train_log_zr, verbose=False, plot=True)\n",
    "    cst.save_model('cst_model_log_zr.dat')\n",
    "    y_pred_model_cb_log_zr = cst.predict(X_test_log_zr)\n",
    "\n",
    "    cat_features = ['WELL', 'FORMATION']\n",
    "    cst = model_cb.fit(X_train_slf_zr, y_train_slf_zr, verbose=False, plot=True, cat_features=cat_features)\n",
    "    cst.save_model('cst_model_slf_zr.dat')\n",
    "    y_pred_model_cb_slf_zr = cst.predict(X_test_slf_zr)"
   ]
  },
  {
   "cell_type": "markdown",
   "id": "7ddab126",
   "metadata": {},
   "source": [
    "#### 3.2.2 XGBoost"
   ]
  },
  {
   "cell_type": "code",
   "execution_count": null,
   "id": "e68cb7a5",
   "metadata": {},
   "outputs": [],
   "source": [
    "if train_flag == True:\n",
    "    param = {\n",
    "        'tree_method': 'gpu_hist',\n",
    "        'num_class': 12,\n",
    "        'verbosity': 0,\n",
    "        'objective': 'multi:softmax',\n",
    "        'eval_metric': 'mlogloss',\n",
    "        'n_estimators': 300}\n",
    "    #Org\n",
    "    dtrain = xgboost.DMatrix(X_train_org_zr, label=y_train_org_zr)\n",
    "    dtest = xgboost.DMatrix(X_test_org_zr, label=y_test_org_zr)\n",
    "    bst = xgboost.train(param, dtrain)\n",
    "    joblib.dump(bst, 'xgb_model_org_zr.dat')\n",
    "    bst.__del__() # удаление модели с её взаимосвязями для очистки графической памяти\n",
    "    bst = joblib.load('xgb_model_org_zr.dat')\n",
    "    y_pred_model_xgb_org_zr = bst.predict(dtest)\n",
    "    bst.__del__() # удаление модели с её взаимосвязями для очистки графической памяти\n",
    "    gc.collect()\n",
    "    print(y_pred_model_xgb_org_zr)\n",
    "\n",
    "    #All\n",
    "    X_train_all_zr[['WELL', 'GROUP', 'FORMATION']] = X_train_all_zr[['WELL', 'GROUP', 'FORMATION']].astype('category')\n",
    "    X_test_all_zr[['WELL', 'GROUP', 'FORMATION']] = X_test_all_zr[['WELL', 'GROUP', 'FORMATION']].astype('category')\n",
    "    dtrain = xgboost.DMatrix(X_train_all_zr, label=y_train_all_zr, enable_categorical=True)\n",
    "    dtest = xgboost.DMatrix(X_test_all_zr, label=y_test_all_zr, enable_categorical=True)\n",
    "    bst = xgboost.train(param, dtrain)\n",
    "    joblib.dump(bst, 'xgb_model_all_zr.dat')\n",
    "    bst.__del__()\n",
    "    bst = joblib.load('xgb_model_all_zr.dat')\n",
    "    y_pred_model_xgb_all_zr = bst.predict(dtest)\n",
    "    bst.__del__()\n",
    "    gc.collect()\n",
    "    print(y_pred_model_xgb_all_zr)\n",
    "\n",
    "    #Log\n",
    "    dtrain = xgboost.DMatrix(X_train_log_zr, label=y_train_log_zr)\n",
    "    dtest = xgboost.DMatrix(X_test_log_zr, label=y_test_log_zr)\n",
    "    bst = xgboost.train(param, dtrain)\n",
    "    joblib.dump(bst, 'xgb_model_log_zr.dat')\n",
    "    bst.__del__()\n",
    "    bst = joblib.load('xgb_model_log_zr.dat')\n",
    "    y_pred_model_xgb_log_zr = bst.predict(dtest)\n",
    "    bst.__del__()\n",
    "    gc.collect()\n",
    "    print(y_pred_model_xgb_log_zr)\n",
    "\n",
    "    #Slf\n",
    "    X_train_slf_zr[['WELL','FORMATION']] = X_train_slf_zr[['WELL','FORMATION']].astype('category')\n",
    "    X_test_slf_zr[['WELL','FORMATION']] = X_test_slf_zr[['WELL','FORMATION']].astype('category')\n",
    "    dtrain = xgboost.DMatrix(X_train_slf_zr, label=y_train_slf_zr, enable_categorical=True)\n",
    "    dtest = xgboost.DMatrix(X_test_slf_zr, label=y_test_slf_zr, enable_categorical=True)\n",
    "    bst = xgboost.train(param, dtrain)\n",
    "    joblib.dump(bst, 'xgb_model_slf_zr.dat')\n",
    "    bst.__del__()\n",
    "    bst = joblib.load('xgb_model_slf_zr.dat')\n",
    "    y_pred_model_xgb_slf_zr = bst.predict(dtest)\n",
    "    bst.__del__()\n",
    "    gc.collect()\n",
    "    print(y_pred_model_xgb_slf_zr)"
   ]
  },
  {
   "cell_type": "markdown",
   "id": "69bc5438",
   "metadata": {},
   "source": [
    "#### 3.2.3 Random Forest"
   ]
  },
  {
   "cell_type": "markdown",
   "id": "0551fed4",
   "metadata": {},
   "source": [
    "##### 3.2.3.1 OneHotEncoder"
   ]
  },
  {
   "cell_type": "code",
   "execution_count": null,
   "id": "16957418",
   "metadata": {},
   "outputs": [],
   "source": [
    "if train_flag == True:\n",
    "    enc = OneHotEncoder(handle_unknown='ignore')\n",
    "    encoded = pd.DataFrame(enc.fit_transform(X_train_slf_zr[['WELL', 'FORMATION']]).toarray())\n",
    "    X_train_slf_zr_enc = X_train_slf_zr.drop(['WELL', 'FORMATION'], axis=1)\n",
    "    X_train_slf_zr_enc.reset_index(drop=True, inplace=True)\n",
    "    X_train_slf_zr_enc = pd.merge(encoded, X_train_slf_zr_enc, left_index=True, right_index=True)\n",
    "\n",
    "    enc = OneHotEncoder(handle_unknown='ignore')\n",
    "    encoded = pd.DataFrame(enc.fit_transform(X_test_slf_zr[['WELL', 'FORMATION']]).toarray())\n",
    "    X_test_slf_zr_enc = X_test_slf_zr.drop(['WELL', 'FORMATION'], axis=1)\n",
    "    X_test_slf_zr_enc.reset_index(drop=True, inplace=True)\n",
    "    X_test_slf_zr_enc = pd.merge(encoded, X_test_slf_zr_enc, left_index=True, right_index=True)\n",
    "\n",
    "    enc = OneHotEncoder(handle_unknown='ignore')\n",
    "    encoded = pd.DataFrame(enc.fit_transform(X_train_all_zr[['WELL', 'FORMATION', 'GROUP']]).toarray())\n",
    "    X_train_all_zr_enc = X_train_all_zr.drop(['WELL', 'FORMATION', 'GROUP'], axis=1)\n",
    "    X_train_all_zr_enc.reset_index(drop=True, inplace=True)\n",
    "    X_train_all_zr_enc = pd.merge(encoded, X_train_all_zr_enc, left_index=True, right_index=True)\n",
    "\n",
    "    enc = OneHotEncoder(handle_unknown='ignore')\n",
    "    encoded = pd.DataFrame(enc.fit_transform(X_test_all_zr[['WELL', 'FORMATION', 'GROUP']]).toarray())\n",
    "    X_test_all_zr_enc = X_test_all_zr.drop(['WELL', 'FORMATION', 'GROUP'], axis=1)\n",
    "    X_test_all_zr_enc.reset_index(drop=True, inplace=True)\n",
    "    X_test_all_zr_enc = pd.merge(encoded, X_test_all_zr_enc, left_index=True, right_index=True)"
   ]
  },
  {
   "cell_type": "markdown",
   "id": "1b5c89cb",
   "metadata": {},
   "source": [
    "#####  3.2.3.2 Training"
   ]
  },
  {
   "cell_type": "code",
   "execution_count": null,
   "id": "aa4567bc",
   "metadata": {},
   "outputs": [],
   "source": [
    "if train_flag == True:\n",
    "    rf = model_rf.fit(X_train_org_zr, y_train_org_zr)\n",
    "    y_pred_model_rf_org_zr = rf.predict(X_test_org_zr)\n",
    "    joblib.dump(rf, 'rf_model_org_zr.dat')\n",
    "\n",
    "    rf = model_rf.fit(X_train_all_zr_enc, y_train_all_zr)\n",
    "    y_pred_model_rf_all_zr = rf.predict(X_test_all_zr_enc)\n",
    "    joblib.dump(rf, 'rf_model_all_zr.dat')\n",
    "\n",
    "    rf = model_rf.fit(X_train_log_zr, y_train_log_zr)\n",
    "    y_pred_model_rf_log_zr = rf.predict(X_test_log_zr)\n",
    "    joblib.dump(rf, 'rf_model_log_zr.dat')\n",
    "\n",
    "    rf = model_rf.fit(X_train_slf_zr_enc, y_train_slf_zr)\n",
    "    y_pred_model_rf_slf_zr = rf.predict(X_test_slf_zr_enc)\n",
    "    joblib.dump(rf, 'rf_model_slf_zr.dat')"
   ]
  },
  {
   "cell_type": "markdown",
   "id": "9c2a97b1",
   "metadata": {},
   "source": [
    "### 3.3 Использование обученных моделей"
   ]
  },
  {
   "cell_type": "markdown",
   "id": "0da74fee",
   "metadata": {},
   "source": [
    "#### 3.3.1 CatBoost"
   ]
  },
  {
   "cell_type": "code",
   "execution_count": null,
   "id": "951551a1",
   "metadata": {},
   "outputs": [],
   "source": [
    "if train_flag == False:\n",
    "    cst = CatBoostClassifier()\n",
    "    cst.load_model('cst_model_org_zr.dat')\n",
    "    y_pred_model_cb_org_zr = cst.predict(X_test_org_zr)\n",
    "\n",
    "    cst = CatBoostClassifier()\n",
    "    cst.load_model('cst_model_all_zr.dat')\n",
    "    y_pred_model_cb_all_zr = cst.predict(X_test_all_zr)\n",
    "\n",
    "    cst = CatBoostClassifier()\n",
    "    cst.load_model('cst_model_log_zr.dat')\n",
    "    y_pred_model_cb_log_zr = cst.predict(X_test_log_zr)\n",
    "\n",
    "    cst = CatBoostClassifier()\n",
    "    cst.load_model('cst_model_slf_zr.dat')\n",
    "    y_pred_model_cb_slf_zr = cst.predict(X_test_slf_zr)"
   ]
  },
  {
   "cell_type": "markdown",
   "id": "e72856c1",
   "metadata": {},
   "source": [
    "#### 3.3.2 XGBoost"
   ]
  },
  {
   "cell_type": "code",
   "execution_count": null,
   "id": "fe757635",
   "metadata": {},
   "outputs": [],
   "source": [
    "if train_flag == False:\n",
    "    dtrain = xgboost.DMatrix(X_train_org_zr, label=y_train_org_zr)\n",
    "    dtest = xgboost.DMatrix(X_test_org_zr, label=y_test_org_zr)\n",
    "    bst = joblib.load('xgb_model_org_zr.dat')\n",
    "    y_pred_model_xgb_org_zr = bst.predict(dtest)\n",
    "\n",
    "    X_train_all_zr[['WELL', 'GROUP', 'FORMATION']] = X_train_all_zr[['WELL', 'GROUP', 'FORMATION']].astype('category')\n",
    "    X_test_all_zr[['WELL', 'GROUP', 'FORMATION']] = X_test_all_zr[['WELL', 'GROUP', 'FORMATION']].astype('category')\n",
    "    dtrain = xgboost.DMatrix(X_train_all_zr, label=y_train_all_zr, enable_categorical=True)\n",
    "    dtest = xgboost.DMatrix(X_test_all_zr, label=y_test_all_zr, enable_categorical=True)\n",
    "    bst = joblib.load('xgb_model_all_zr.dat')\n",
    "    y_pred_model_xgb_all_zr = bst.predict(dtest)\n",
    "\n",
    "    dtrain = xgboost.DMatrix(X_train_log_zr, label=y_train_log_zr)\n",
    "    dtest = xgboost.DMatrix(X_test_log_zr, label=y_test_log_zr)\n",
    "    bst = joblib.load('xgb_model_log_zr.dat')\n",
    "    y_pred_model_xgb_log_zr = bst.predict(dtest)\n",
    "\n",
    "    X_train_slf_zr[['WELL','FORMATION']] = X_train_slf_zr[['WELL','FORMATION']].astype('category')\n",
    "    X_test_slf_zr[['WELL','FORMATION']] = X_test_slf_zr[['WELL','FORMATION']].astype('category')\n",
    "    dtrain = xgboost.DMatrix(X_train_slf_zr, label=y_train_slf_zr, enable_categorical=True)\n",
    "    dtest = xgboost.DMatrix(X_test_slf_zr, label=y_test_slf_zr, enable_categorical=True)\n",
    "    bst = joblib.load('xgb_model_slf_zr.dat')\n",
    "    y_pred_model_xgb_slf_zr = bst.predict(dtest)"
   ]
  },
  {
   "cell_type": "markdown",
   "id": "0cb862dc",
   "metadata": {},
   "source": [
    "#### 3.3.3 Random Forest"
   ]
  },
  {
   "cell_type": "markdown",
   "id": "3cc703e0",
   "metadata": {},
   "source": [
    "##### 3.3.3.1 OneHotEncoder"
   ]
  },
  {
   "cell_type": "code",
   "execution_count": null,
   "id": "c2a24148",
   "metadata": {},
   "outputs": [],
   "source": [
    "if train_flag == False:\n",
    "    enc = OneHotEncoder(handle_unknown='ignore')\n",
    "    encoded = pd.DataFrame(enc.fit_transform(X_train_slf_zr[['WELL', 'FORMATION']]).toarray())\n",
    "    X_train_slf_zr_enc = X_train_slf_zr.drop(['WELL', 'FORMATION'], axis=1)\n",
    "    X_train_slf_zr_enc.reset_index(drop=True, inplace=True)\n",
    "    X_train_slf_zr_enc = pd.merge(encoded, X_train_slf_zr_enc, left_index=True, right_index=True)\n",
    "\n",
    "    enc = OneHotEncoder(handle_unknown='ignore')\n",
    "    encoded = pd.DataFrame(enc.fit_transform(X_test_slf_zr[['WELL', 'FORMATION']]).toarray())\n",
    "    X_test_slf_zr_enc = X_test_slf_zr.drop(['WELL', 'FORMATION'], axis=1)\n",
    "    X_test_slf_zr_enc.reset_index(drop=True, inplace=True)\n",
    "    X_test_slf_zr_enc = pd.merge(encoded, X_test_slf_zr_enc, left_index=True, right_index=True)"
   ]
  },
  {
   "cell_type": "markdown",
   "id": "d9bbd6d5",
   "metadata": {},
   "source": [
    "##### 3.3.3.2 Use trained model"
   ]
  },
  {
   "cell_type": "code",
   "execution_count": null,
   "id": "4eb4a431",
   "metadata": {},
   "outputs": [],
   "source": [
    "if train_flag == False:\n",
    "    rf = joblib.load('rf_model_org_zr.dat')\n",
    "    y_pred_model_rf_org_zr = rf.predict(X_test_org_zr)\n",
    "\n",
    "    rf = joblib.load('rf_model_all_zr.dat')\n",
    "    y_pred_model_rf_all_zr = rf.predict(X_test_all_zr_enc)\n",
    "\n",
    "    rf = joblib.load('rf_model_log_zr.dat')\n",
    "    y_pred_model_rf_log_zr = rf.predict(X_test_log_zr)\n",
    "\n",
    "    rf = joblib.load('rf_model_slf_zr.dat')\n",
    "    y_pred_model_rf_slf_zr = rf.predict(X_test_slf_zr_enc)"
   ]
  },
  {
   "cell_type": "markdown",
   "id": "aee0a963",
   "metadata": {},
   "source": [
    " "
   ]
  },
  {
   "cell_type": "markdown",
   "id": "ec8326bb",
   "metadata": {},
   "source": [
    " "
   ]
  },
  {
   "cell_type": "markdown",
   "id": "eed6e8fd",
   "metadata": {},
   "source": [
    "# 4. Результаты"
   ]
  },
  {
   "cell_type": "markdown",
   "id": "9730b2d6",
   "metadata": {},
   "source": [
    "### 4.1 Определение кастомной метрики"
   ]
  },
  {
   "cell_type": "code",
   "execution_count": null,
   "id": "b92f3d67",
   "metadata": {},
   "outputs": [],
   "source": [
    "A=np.array([[0.    , 2.    , 3.5   , 3.    , 3.75  , 3.5   , 3.5   , 4.    , 4.    , 2.5   , 3.875 , 3.25  ],\n",
    "            [2.    , 0.    , 2.375 , 2.75  , 4.    , 3.75  , 3.75  , 3.875 , 4.    , 3.    , 3.75  , 3.    ],\n",
    "            [3.5   , 2.375 , 0.    , 2.    , 3.5   , 3.5   , 3.75  , 4.    , 4.    , 2.75  , 3.25  , 3.    ],\n",
    "            [3.    , 2.75  , 2.    , 0.    , 2.5   , 2.    , 2.25  , 4.    , 4.    , 3.375 , 3.75  , 3.25  ],\n",
    "            [3.75  , 4.    , 3.5   , 2.5   , 0.    , 2.625 , 2.875 , 3.75  , 3.25  , 3.    , 4.    , 3.625 ],\n",
    "            [3.5   , 3.75  , 3.5   , 2.    , 2.625 , 0.    , 1.375 , 4.    , 3.75  , 3.5   , 4.    , 3.625 ],\n",
    "            [3.5   , 3.75  , 3.75  , 2.25  , 2.875 , 1.375 , 0.    , 4.    , 3.75  , 3.125 , 4.    , 3.75  ],\n",
    "            [4.    , 3.875 , 4.    , 4.    , 3.75  , 4.    , 4.    , 0.    , 2.75  , 3.75  , 3.75  , 4.    ],\n",
    "            [4.    , 4.    , 4.    , 4.    , 3.25  , 3.75  , 3.75  , 2.75  , 0.    , 4.    , 4.    , 3.875 ],\n",
    "            [2.5   , 3.    , 2.75  , 3.375 , 3.    , 3.5   , 3.125 , 3.75  , 4.    , 0.    , 2.5   , 3.25  ],\n",
    "            [3.875 , 3.75  , 3.25  , 3.75  , 4.    , 4.    , 4.    , 3.75  , 4.    , 2.5   , 0.    , 4.    ],\n",
    "            [3.25  , 3.    , 3.    , 3.25  , 3.625 , 3.625 , 3.75  , 4.    , 3.875 , 3.25  , 4.    , 0.    ]])"
   ]
  },
  {
   "cell_type": "code",
   "execution_count": null,
   "id": "694d680c",
   "metadata": {},
   "outputs": [],
   "source": [
    "def score(y_true, y_pred):\n",
    "    S = 0.0\n",
    "    y_true = y_true.astype(int)\n",
    "    y_pred = y_pred.astype(int)\n",
    "    for i in range(0, y_true.shape[0]):\n",
    "        S -= A[y_true[i], y_pred[i]]\n",
    "    return S/y_true.shape[0]"
   ]
  },
  {
   "cell_type": "markdown",
   "id": "916c7fd3",
   "metadata": {},
   "source": [
    "### 4.2 Подсчёт точности"
   ]
  },
  {
   "cell_type": "code",
   "execution_count": null,
   "id": "31a4355f",
   "metadata": {},
   "outputs": [],
   "source": [
    "print('org')\n",
    "print(f'Result (Random Forest): {score(y_test_org_zr.values, y_pred_model_rf_org_zr)}')\n",
    "print(f'Result (CatBoost): {score(y_test_org_zr.values, y_pred_model_cb_org_zr)}')\n",
    "print(f'Result (XGBoost): {score(y_test_org_zr.values, y_pred_model_xgb_org_zr)}')\n",
    "\n",
    "print('all')\n",
    "print(f'Result (Random Forest): {score(y_test_all_zr.values, y_pred_model_rf_all_zr)}')\n",
    "print(f'Result (CatBoost): {score(y_test_all_zr.values, y_pred_model_cb_all_zr)}')\n",
    "print(f'Result (XGBoost): {score(y_test_all_zr.values, y_pred_model_xgb_all_zr)}')\n",
    "\n",
    "print('log')\n",
    "print(f'Result (Random Forest): {score(y_test_log_zr.values, y_pred_model_rf_log_zr)}')\n",
    "print(f'Result (CatBoost): {score(y_test_log_zr.values, y_pred_model_cb_log_zr)}')\n",
    "print(f'Result (XGBoost): {score(y_test_log_zr.values, y_pred_model_xgb_log_zr)}')\n",
    "\n",
    "print('slf')\n",
    "print(f'Result (Random Forest): {score(y_test_slf_zr.values, y_pred_model_rf_slf_zr)}')\n",
    "print(f'Result (CatBoost): {score(y_test_slf_zr.values, y_pred_model_cb_slf_zr)}')\n",
    "print(f'Result (XGBoost): {score(y_test_slf_zr.values, y_pred_model_xgb_slf_zr)}')"
   ]
  },
  {
   "cell_type": "code",
   "execution_count": null,
   "id": "1f1c8924",
   "metadata": {},
   "outputs": [],
   "source": [
    "print('CatBoost')\n",
    "print(f'Accuracy org: {sklearn.metrics.accuracy_score(y_test_org_zr.values, y_pred_model_cb_org_zr)}')\n",
    "print(f'Accuracy all: {sklearn.metrics.accuracy_score(y_test_all_zr.values, y_pred_model_cb_all_zr)}')\n",
    "print(f'Accuracy log: {sklearn.metrics.accuracy_score(y_test_log_zr.values, y_pred_model_cb_log_zr)}')\n",
    "print(f'Accuracy slf: {sklearn.metrics.accuracy_score(y_test_slf_zr.values, y_pred_model_cb_slf_zr)}')\n",
    "print('XGBooost')\n",
    "print(f'Accuracy org: {sklearn.metrics.accuracy_score(y_test_org_zr.values, y_pred_model_xgb_org_zr)}')\n",
    "print(f'Accuracy all: {sklearn.metrics.accuracy_score(y_test_all_zr.values, y_pred_model_xgb_all_zr)}')\n",
    "print(f'Accuracy log: {sklearn.metrics.accuracy_score(y_test_log_zr.values, y_pred_model_xgb_log_zr)}')\n",
    "print(f'Accuracy slf: {sklearn.metrics.accuracy_score(y_test_slf_zr.values, y_pred_model_xgb_slf_zr)}')"
   ]
  },
  {
   "cell_type": "code",
   "execution_count": null,
   "id": "ec65fa84",
   "metadata": {},
   "outputs": [],
   "source": []
  }
 ],
 "metadata": {
  "kernelspec": {
   "display_name": "Python 3 (ipykernel)",
   "language": "python",
   "name": "python3"
  },
  "language_info": {
   "codemirror_mode": {
    "name": "ipython",
    "version": 3
   },
   "file_extension": ".py",
   "mimetype": "text/x-python",
   "name": "python",
   "nbconvert_exporter": "python",
   "pygments_lexer": "ipython3",
   "version": "3.8.10"
  }
 },
 "nbformat": 4,
 "nbformat_minor": 5
}
